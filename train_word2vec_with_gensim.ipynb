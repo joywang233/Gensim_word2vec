{
 "cells": [
  {
   "cell_type": "code",
   "execution_count": 1,
   "source": [
    "#!pip install gensim"
   ],
   "outputs": [
    {
     "output_type": "stream",
     "name": "stdout",
     "text": [
      "Requirement already satisfied: gensim in c:\\users\\n10130039\\anaconda3\\lib\\site-packages (4.1.0)\n",
      "Requirement already satisfied: scipy>=0.18.1 in c:\\users\\n10130039\\anaconda3\\lib\\site-packages (from gensim) (1.6.2)\n",
      "Requirement already satisfied: numpy>=1.17.0 in c:\\users\\n10130039\\anaconda3\\lib\\site-packages (from gensim) (1.20.3)\n",
      "Requirement already satisfied: smart-open>=1.8.1 in c:\\users\\n10130039\\anaconda3\\lib\\site-packages (from gensim) (5.1.0)\n",
      "Collecting Cython==0.29.23\n",
      "  Using cached Cython-0.29.23-cp38-cp38-win_amd64.whl (1.7 MB)\n",
      "Installing collected packages: Cython\n",
      "  Attempting uninstall: Cython\n",
      "    Found existing installation: Cython 0.29.24\n",
      "    Uninstalling Cython-0.29.24:\n",
      "      Successfully uninstalled Cython-0.29.24\n",
      "Successfully installed Cython-0.29.23\n"
     ]
    }
   ],
   "metadata": {}
  },
  {
   "cell_type": "markdown",
   "source": [
    "# Gensim word2vec workplow:\r\n",
    "ref: https://youtu.be/Q2NtCcqmIww\r\n",
    "1) prepare data\r\n",
    "2) preprocessing data: tokenization, stop word removal... can use: simple_preprocesser from gensim.utils\r\n",
    "3) create the word2vec model and ready to train with your own dataset\r\n",
    "4) build_vocabulary "
   ],
   "metadata": {}
  },
  {
   "cell_type": "code",
   "execution_count": 2,
   "source": [
    "import gensim\r\n",
    "from gensim.models import Word2Vec\r\n",
    "##############################################\r\n",
    "import matplotlib.pyplot as plt\r\n",
    "from gensim.models.keyedvectors import KeyedVectors\r\n",
    "from gensim.utils import simple_preprocess #for preprocessing\r\n",
    "#from sklearn.metrics import accuracy_score, classification_report, confusion_matrix\r\n",
    "#import seaborn as sns"
   ],
   "outputs": [],
   "metadata": {}
  },
  {
   "cell_type": "code",
   "execution_count": 5,
   "source": [
    "# Prepare customized dataset\r\n",
    "import pandas as pd\r\n",
    "mydata = pd.read_csv('clean_train.csv')\r\n",
    "mydata.head()\r\n",
    "# we only want relevant columns\r\n",
    "clean_data = pd.concat([mydata['relevant'], mydata['clean']], axis=1, keys=['relevant','clean'])\r\n",
    "#clean_data.to_csv('clean_test_df.csv')"
   ],
   "outputs": [
    {
     "output_type": "execute_result",
     "data": {
      "text/html": [
       "<div>\n",
       "<style scoped>\n",
       "    .dataframe tbody tr th:only-of-type {\n",
       "        vertical-align: middle;\n",
       "    }\n",
       "\n",
       "    .dataframe tbody tr th {\n",
       "        vertical-align: top;\n",
       "    }\n",
       "\n",
       "    .dataframe thead th {\n",
       "        text-align: right;\n",
       "    }\n",
       "</style>\n",
       "<table border=\"1\" class=\"dataframe\">\n",
       "  <thead>\n",
       "    <tr style=\"text-align: right;\">\n",
       "      <th></th>\n",
       "      <th>relevant</th>\n",
       "      <th>clean</th>\n",
       "    </tr>\n",
       "  </thead>\n",
       "  <tbody>\n",
       "    <tr>\n",
       "      <th>0</th>\n",
       "      <td>1</td>\n",
       "      <td>rt granetman hacker held open mongodb database...</td>\n",
       "    </tr>\n",
       "    <tr>\n",
       "      <th>1</th>\n",
       "      <td>1</td>\n",
       "      <td>vuln google chrome multiple security vulnerabi...</td>\n",
       "    </tr>\n",
       "    <tr>\n",
       "      <th>2</th>\n",
       "      <td>-1</td>\n",
       "      <td>thehackersnews nmerrigan 0xdude number of mong...</td>\n",
       "    </tr>\n",
       "    <tr>\n",
       "      <th>3</th>\n",
       "      <td>1</td>\n",
       "      <td>several thousand linux devices infected with t...</td>\n",
       "    </tr>\n",
       "    <tr>\n",
       "      <th>4</th>\n",
       "      <td>1</td>\n",
       "      <td>adobe flash player flaws remain the most used ...</td>\n",
       "    </tr>\n",
       "    <tr>\n",
       "      <th>...</th>\n",
       "      <td>...</td>\n",
       "      <td>...</td>\n",
       "    </tr>\n",
       "    <tr>\n",
       "      <th>4605</th>\n",
       "      <td>1</td>\n",
       "      <td>threatmeter suse sles12 security update kernel...</td>\n",
       "    </tr>\n",
       "    <tr>\n",
       "      <th>4606</th>\n",
       "      <td>1</td>\n",
       "      <td>vuln apache http server cve-2016-2161 denial o...</td>\n",
       "    </tr>\n",
       "    <tr>\n",
       "      <th>4607</th>\n",
       "      <td>-1</td>\n",
       "      <td>oracle drops plans for solaris 12</td>\n",
       "    </tr>\n",
       "    <tr>\n",
       "      <th>4608</th>\n",
       "      <td>1</td>\n",
       "      <td>redhat cloudforms management engine 4.1 execut...</td>\n",
       "    </tr>\n",
       "    <tr>\n",
       "      <th>4609</th>\n",
       "      <td>1</td>\n",
       "      <td>oracle peoplesoft hcm 9.2 cross site scripting</td>\n",
       "    </tr>\n",
       "  </tbody>\n",
       "</table>\n",
       "<p>4610 rows × 2 columns</p>\n",
       "</div>"
      ],
      "text/plain": [
       "      relevant                                              clean\n",
       "0            1  rt granetman hacker held open mongodb database...\n",
       "1            1  vuln google chrome multiple security vulnerabi...\n",
       "2           -1  thehackersnews nmerrigan 0xdude number of mong...\n",
       "3            1  several thousand linux devices infected with t...\n",
       "4            1  adobe flash player flaws remain the most used ...\n",
       "...        ...                                                ...\n",
       "4605         1  threatmeter suse sles12 security update kernel...\n",
       "4606         1  vuln apache http server cve-2016-2161 denial o...\n",
       "4607        -1                  oracle drops plans for solaris 12\n",
       "4608         1  redhat cloudforms management engine 4.1 execut...\n",
       "4609         1     oracle peoplesoft hcm 9.2 cross site scripting\n",
       "\n",
       "[4610 rows x 2 columns]"
      ]
     },
     "metadata": {},
     "execution_count": 5
    }
   ],
   "metadata": {}
  },
  {
   "cell_type": "code",
   "execution_count": 6,
   "source": [
    "# data preprocessing \r\n",
    "tokenzed_text = clean_data.clean.apply(simple_preprocess)\r\n",
    "tokenzed_text # a new panda series with list of tokens "
   ],
   "outputs": [
    {
     "output_type": "execute_result",
     "data": {
      "text/plain": [
       "0       [rt, granetman, hacker, held, open, mongodb, d...\n",
       "1       [vuln, google, chrome, multiple, security, vul...\n",
       "2       [thehackersnews, nmerrigan, xdude, number, of,...\n",
       "3       [several, thousand, linux, devices, infected, ...\n",
       "4       [adobe, flash, player, flaws, remain, the, mos...\n",
       "                              ...                        \n",
       "4605    [threatmeter, suse, sles, security, update, ke...\n",
       "4606    [vuln, apache, http, server, cve, denial, of, ...\n",
       "4607                 [oracle, drops, plans, for, solaris]\n",
       "4608    [redhat, cloudforms, management, engine, execu...\n",
       "4609    [oracle, peoplesoft, hcm, cross, site, scripting]\n",
       "Name: clean, Length: 4610, dtype: object"
      ]
     },
     "metadata": {},
     "execution_count": 6
    }
   ],
   "metadata": {}
  },
  {
   "cell_type": "code",
   "execution_count": null,
   "source": [
    "# create the w2v model with parameters \r\n",
    "customized_model = gensim.models.Word2Vec(\r\n",
    "    window = 10, #similar to cnn slider  size is flexible, you can play around with it\r\n",
    "    min_count = 2, # minimax words in a sentence\r\n",
    "    workers = 2 #how many cpu cores you want to use to train the model\r\n",
    ")\r\n",
    "customized_model.build_vocab(tokenzed_text, progress_per = 1000) #show progress every 1000 steps"
   ],
   "outputs": [],
   "metadata": {}
  },
  {
   "cell_type": "code",
   "execution_count": 11,
   "source": [
    "# check some parameters before training\r\n",
    "customized_model.epochs # default is 5 \r\n",
    "customized_model.corpus_count  #we have 4610 here"
   ],
   "outputs": [
    {
     "output_type": "execute_result",
     "data": {
      "text/plain": [
       "4610"
      ]
     },
     "metadata": {},
     "execution_count": 11
    }
   ],
   "metadata": {}
  },
  {
   "cell_type": "code",
   "execution_count": 26,
   "source": [
    "#train the w2v model and save locally, next time you can only load the model\r\n",
    "customized_model.train(tokenzed_text, total_examples = customized_model.corpus_count, epochs = customized_model.epochs)\r\n",
    "#customized_model.save(\"customized_model.model\")"
   ],
   "outputs": [
    {
     "output_type": "execute_result",
     "data": {
      "text/plain": [
       "(108561, 145998)"
      ]
     },
     "metadata": {},
     "execution_count": 26
    }
   ],
   "metadata": {}
  },
  {
   "cell_type": "code",
   "execution_count": 23,
   "source": [
    "# explore the model by using model.wv.most_similar()\r\n",
    "print(customized_model.wv.most_similar('oracle'))\r\n",
    "print(customized_model.wv.most_similar('ransomware'))\r\n",
    "print(customized_model.wv.similarity(w1 = \"mysql\", w2 = \"oracle\"))\r\n",
    "print(customized_model.wv.similarity(w1 = \"cloud\", w2 = \"server\"))"
   ],
   "outputs": [
    {
     "output_type": "stream",
     "name": "stdout",
     "text": [
      "[('se', 0.9583156704902649), ('fusion', 0.9280099868774414), ('middleware', 0.9256894588470459), ('jre', 0.9007167220115662), ('java', 0.8971377015113831), ('business', 0.8917595148086548), ('jrockit', 0.8887305855751038), ('mysql', 0.869497537612915), ('telephony', 0.8682535290718079), ('production', 0.8675521612167358)]\n",
      "[('down', 0.9944398999214172), ('learning', 0.9943986535072327), ('hacked', 0.9942374229431152), ('align', 0.993852436542511), ('urge', 0.9937928915023804), ('https', 0.9936993718147278), ('researchers', 0.9936281442642212), ('turkey', 0.993478000164032), ('hacks', 0.9933807849884033), ('claims', 0.9933537244796753)]\n",
      "0.86949754\n",
      "0.56539226\n"
     ]
    }
   ],
   "metadata": {}
  }
 ],
 "metadata": {
  "orig_nbformat": 4,
  "language_info": {
   "name": "python",
   "version": "3.8.8",
   "mimetype": "text/x-python",
   "codemirror_mode": {
    "name": "ipython",
    "version": 3
   },
   "pygments_lexer": "ipython3",
   "nbconvert_exporter": "python",
   "file_extension": ".py"
  },
  "kernelspec": {
   "name": "python3",
   "display_name": "Python 3.8.8 64-bit ('base': conda)"
  },
  "interpreter": {
   "hash": "26bec6c1192aa94803ef5712efbd60ee1adc887cbf52a7dbc0eefa462b059db2"
  }
 },
 "nbformat": 4,
 "nbformat_minor": 2
}